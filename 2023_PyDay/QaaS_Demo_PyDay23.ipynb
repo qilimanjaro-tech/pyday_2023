{
 "cells": [
  {
   "cell_type": "markdown",
   "metadata": {},
   "source": [
    "# QaaS demo with Qibo and Qiboconnection\n"
   ]
  },
  {
   "attachments": {},
   "cell_type": "markdown",
   "metadata": {},
   "source": [
    "### Create a bit flip circuit with Qibo and Qiboconnection"
   ]
  },
  {
   "cell_type": "markdown",
   "metadata": {},
   "source": [
    "Initially: \n",
    "\n",
    "$$q_0 = \\ket{0} =\n",
    "\\begin{bmatrix}\n",
    "1 \\\\\n",
    "0\n",
    "\\end{bmatrix}\n",
    "\n",
    "\\\\\n",
    "q_1 = \\ket{0} = \\begin{bmatrix}\n",
    "1 \\\\\n",
    "0\n",
    "\\end{bmatrix}\n",
    "\\\\\n",
    "$$\n",
    "\n",
    "Therefore, the initial state is always: \n",
    "$$\\ket{\\psi} = \\ket{00} = \\ket{0}\\otimes\\ket{0}= \\begin{bmatrix}\n",
    "1\\\\\n",
    "0\n",
    "\\end{bmatrix}\\otimes \\begin{bmatrix}\n",
    "1\\\\\n",
    "0\n",
    "\\end{bmatrix} = \\begin{bmatrix} 1\\begin{bmatrix} 1 \\\\ 0 \\end{bmatrix} \\\\ 0\\begin{bmatrix} 1 \\\\ 0\\end{bmatrix}\\end{bmatrix}= \\begin{bmatrix}\n",
    "1 \\\\\n",
    "0 \\\\\n",
    "0 \\\\\n",
    "0\n",
    "\\end{bmatrix}$$\n",
    "\n",
    "Apply $\\sigma_x$ to $q_1$:\n",
    "$$\\sigma_{x} \\ket{0} = \\begin{bmatrix}\n",
    "0 & 1 \\\\\n",
    "1 & 0\n",
    "\\end{bmatrix}\\begin{bmatrix}\n",
    "1 \\\\\n",
    "0\n",
    "\\end{bmatrix}\n",
    "\n",
    "=\n",
    "\\begin{bmatrix}\n",
    "0 \\\\\n",
    "1\n",
    "\\end{bmatrix}=\\ket{1}\n",
    "\\\\$$\n",
    "Hence, the final state will always be: \n",
    "\n",
    "$$q_0 = \\ket{0} =\n",
    "\\begin{bmatrix}\n",
    "1 \\\\\n",
    "0\n",
    "\\end{bmatrix}\n",
    "\n",
    "\\\\\n",
    "q_1 = \\ket{1} = \\begin{bmatrix}\n",
    "0 \\\\\n",
    "1\n",
    "\\end{bmatrix}\n",
    "\\\\\n",
    "$$\n",
    "Which can be represented as: \n",
    "$$\\ket{01} = \\begin{bmatrix}\n",
    "1 \\\\\n",
    "0\n",
    "\\end{bmatrix}\\otimes\\begin{bmatrix}\n",
    "0 \\\\\n",
    "1\n",
    "\\end{bmatrix} = \\begin{bmatrix}\n",
    "0 \\\\\n",
    "1 \\\\\n",
    "0 \\\\\n",
    "0\n",
    "\\end{bmatrix}$$"
   ]
  },
  {
   "cell_type": "code",
   "execution_count": 1,
   "metadata": {},
   "outputs": [],
   "source": [
    "from qibo.models import Circuit\n",
    "from qibo.gates import X,M,H,CNOT\n",
    "import qibo"
   ]
  },
  {
   "cell_type": "code",
   "execution_count": 2,
   "metadata": {},
   "outputs": [
    {
     "data": {
      "text/plain": [
       "MeasurementResult(qubits=(0,), nshots=0)"
      ]
     },
     "execution_count": 2,
     "metadata": {},
     "output_type": "execute_result"
    }
   ],
   "source": [
    "bit_flip_circuit=Circuit(nqubits=1)\n",
    "bit_flip_circuit.add(X(0))\n",
    "bit_flip_circuit.add(M(0))  # you need to measure always, otherwise the execution will fail!"
   ]
  },
  {
   "cell_type": "code",
   "execution_count": 3,
   "metadata": {},
   "outputs": [
    {
     "data": {
      "text/plain": [
       "'q0: ─X─M─'"
      ]
     },
     "execution_count": 3,
     "metadata": {},
     "output_type": "execute_result"
    }
   ],
   "source": [
    "bit_flip_circuit.draw()"
   ]
  },
  {
   "cell_type": "code",
   "execution_count": 4,
   "metadata": {},
   "outputs": [
    {
     "name": "stderr",
     "output_type": "stream",
     "text": [
      "[Qibo 0.1.12.dev0|INFO|2023-11-11 08:17:31]: Using numpy backend on /CPU:0\n"
     ]
    }
   ],
   "source": [
    "qibo.set_backend('numpy')"
   ]
  },
  {
   "cell_type": "code",
   "execution_count": 6,
   "metadata": {},
   "outputs": [
    {
     "data": {
      "text/plain": [
       "((1+0j)|1>, Counter({'1': 10}))"
      ]
     },
     "execution_count": 6,
     "metadata": {},
     "output_type": "execute_result"
    }
   ],
   "source": [
    "result = bit_flip_circuit(nshots=10)\n",
    "result,result.frequencies()"
   ]
  },
  {
   "cell_type": "markdown",
   "metadata": {},
   "source": [
    "### Connect to the API\n"
   ]
  },
  {
   "cell_type": "code",
   "execution_count": 7,
   "metadata": {},
   "outputs": [],
   "source": [
    "import os \n",
    "from qiboconnection.api import API"
   ]
  },
  {
   "cell_type": "code",
   "execution_count": 8,
   "metadata": {},
   "outputs": [],
   "source": [
    "os.environ[\"QIBOCONNECTION_ENVIRONMENT\"] = \"development\" # target the development server!\n",
    "api = API.login(username='pyday23-user',api_key='pyday23-apikey')"
   ]
  },
  {
   "cell_type": "markdown",
   "metadata": {},
   "source": [
    "### Select device and execute circuit\n"
   ]
  },
  {
   "cell_type": "code",
   "execution_count": 9,
   "metadata": {},
   "outputs": [
    {
     "data": {
      "text/plain": [
       "<Devices[1]:\n",
       "{\n",
       "  \"device_id\": 1,\n",
       "  \"device_name\": \"dev_sim\",\n",
       "  \"status\": \"online\",\n",
       "  \"availability\": \"available\",\n",
       "  \"characteristics\": {\n",
       "    \"type\": \"simulator\",\n",
       "    \"cpu\": null,\n",
       "    \"gpu\": null,\n",
       "    \"os\": null,\n",
       "    \"kernel\": null,\n",
       "    \"ram\": null\n",
       "  }\n",
       "}"
      ]
     },
     "execution_count": 9,
     "metadata": {},
     "output_type": "execute_result"
    }
   ],
   "source": [
    "api.list_devices()"
   ]
  },
  {
   "cell_type": "code",
   "execution_count": 10,
   "metadata": {},
   "outputs": [],
   "source": [
    "api.select_device_id(device_id=1) # select the simulator, otherwise the job will fail"
   ]
  },
  {
   "cell_type": "code",
   "execution_count": 11,
   "metadata": {},
   "outputs": [
    {
     "data": {
      "text/plain": [
       "[29252]"
      ]
     },
     "execution_count": 11,
     "metadata": {},
     "output_type": "execute_result"
    }
   ],
   "source": [
    "api.execute(circuit=bit_flip_circuit, nshots=10)"
   ]
  },
  {
   "cell_type": "code",
   "execution_count": 12,
   "metadata": {},
   "outputs": [],
   "source": [
    "job_id=29252"
   ]
  },
  {
   "cell_type": "markdown",
   "metadata": {},
   "source": [
    "### Retrieve job information, including results"
   ]
  },
  {
   "cell_type": "code",
   "execution_count": 13,
   "metadata": {},
   "outputs": [
    {
     "name": "stderr",
     "output_type": "stream",
     "text": [
      "Your job with id 29252 is completed.\n"
     ]
    },
    {
     "data": {
      "text/plain": [
       "JobData(description=[<qibo.models.circuit.Circuit object at 0x7f2f19c70b50>], device_id=1, execution_type='qibo', job_id=29252, job_type='circuit', number_shots=10, queue_position=0, result=[{'probabilities': [0.0, 1.0], 'frequencies': {'1': 10}}], status='completed', user_id=16)"
      ]
     },
     "execution_count": 13,
     "metadata": {},
     "output_type": "execute_result"
    }
   ],
   "source": [
    "api.get_job(job_id=job_id)"
   ]
  },
  {
   "cell_type": "code",
   "execution_count": 14,
   "metadata": {},
   "outputs": [
    {
     "name": "stderr",
     "output_type": "stream",
     "text": [
      "Your job with id 29252 is completed.\n"
     ]
    },
    {
     "data": {
      "text/plain": [
       "'q0: ─X─M─'"
      ]
     },
     "execution_count": 14,
     "metadata": {},
     "output_type": "execute_result"
    }
   ],
   "source": [
    "api.get_job(job_id=job_id).description[0].draw()"
   ]
  },
  {
   "cell_type": "code",
   "execution_count": 15,
   "metadata": {},
   "outputs": [
    {
     "name": "stderr",
     "output_type": "stream",
     "text": [
      "Your job with id 29252 is completed.\n"
     ]
    },
    {
     "data": {
      "text/plain": [
       "[{'probabilities': [0.0, 1.0], 'frequencies': {'1': 10}}]"
      ]
     },
     "execution_count": 15,
     "metadata": {},
     "output_type": "execute_result"
    }
   ],
   "source": [
    "api.get_job(job_id=job_id).result"
   ]
  },
  {
   "cell_type": "markdown",
   "metadata": {},
   "source": [
    "## Apply Hadamard Gate with Qiboconnection $\\rightarrow$ Slido question\n"
   ]
  },
  {
   "cell_type": "code",
   "execution_count": 16,
   "metadata": {},
   "outputs": [
    {
     "data": {
      "text/plain": [
       "MeasurementResult(qubits=(0,), nshots=0)"
      ]
     },
     "execution_count": 16,
     "metadata": {},
     "output_type": "execute_result"
    }
   ],
   "source": [
    "hadamard_circuit = Circuit(1)\n",
    "hadamard_circuit.add(H(0))\n",
    "hadamard_circuit.add(M(0))"
   ]
  },
  {
   "cell_type": "code",
   "execution_count": 150,
   "metadata": {},
   "outputs": [
    {
     "data": {
      "text/plain": [
       "'q0: ─H─M─'"
      ]
     },
     "execution_count": 150,
     "metadata": {},
     "output_type": "execute_result"
    }
   ],
   "source": [
    "# Draw the circuit\n",
    "hadamard_circuit.draw()"
   ]
  },
  {
   "cell_type": "code",
   "execution_count": 17,
   "metadata": {},
   "outputs": [],
   "source": [
    "job_id = api.execute(circuit=hadamard_circuit, nshots=100)[0]"
   ]
  },
  {
   "cell_type": "code",
   "execution_count": 152,
   "metadata": {},
   "outputs": [
    {
     "name": "stderr",
     "output_type": "stream",
     "text": [
      "Your job with id 29127 is completed.\n"
     ]
    },
    {
     "data": {
      "text/plain": [
       "[{'probabilities': [0.4999999999999999, 0.4999999999999999],\n",
       "  'frequencies': {'0': 51, '1': 49}}]"
      ]
     },
     "execution_count": 152,
     "metadata": {},
     "output_type": "execute_result"
    }
   ],
   "source": [
    "api.get_job(job_id).result"
   ]
  },
  {
   "cell_type": "markdown",
   "metadata": {},
   "source": [
    "## Random Number Generator with Qibo"
   ]
  },
  {
   "cell_type": "code",
   "execution_count": 27,
   "metadata": {},
   "outputs": [
    {
     "name": "stdout",
     "output_type": "stream",
     "text": [
      "Counter({'0': 1})\n"
     ]
    }
   ],
   "source": [
    "# Execute the circuit 1 time\n",
    "result = hadamard_circuit(nshots=1)\n",
    "\n",
    "# Print the measurement result which is a random number 0 or 1\n",
    "print(result.frequencies())"
   ]
  },
  {
   "cell_type": "code",
   "execution_count": 28,
   "metadata": {},
   "outputs": [],
   "source": [
    "def random_number_of_n_bits(n):\n",
    "    measurements = [list(hadamard_circuit(nshots=1).frequencies().keys())[0] for _ in range(n)]\n",
    "    string_binary = \"\".join(measurements)\n",
    "    integer = int(string_binary, 2)\n",
    "    return integer"
   ]
  },
  {
   "cell_type": "code",
   "execution_count": 34,
   "metadata": {},
   "outputs": [
    {
     "data": {
      "text/plain": [
       "562554"
      ]
     },
     "execution_count": 34,
     "metadata": {},
     "output_type": "execute_result"
    }
   ],
   "source": [
    "random_number_of_n_bits(20)"
   ]
  },
  {
   "cell_type": "markdown",
   "metadata": {},
   "source": [
    "## Creating a Bell State with Qiboconnection"
   ]
  },
  {
   "cell_type": "markdown",
   "metadata": {},
   "source": [
    "$$\\ket{\\psi} = \\frac{\\ket{00}+\\ket{11}}{\\sqrt{2}}$$"
   ]
  },
  {
   "cell_type": "code",
   "execution_count": 146,
   "metadata": {},
   "outputs": [
    {
     "data": {
      "text/plain": [
       "MeasurementResult(qubits=(0, 1), nshots=0)"
      ]
     },
     "execution_count": 146,
     "metadata": {},
     "output_type": "execute_result"
    }
   ],
   "source": [
    "bell_state_circuit = Circuit(2)\n",
    "bell_state_circuit.add(H(0))\n",
    "bell_state_circuit.add(CNOT(0,1))\n",
    "bell_state_circuit.add(M(0,1))"
   ]
  },
  {
   "cell_type": "code",
   "execution_count": 147,
   "metadata": {},
   "outputs": [],
   "source": [
    "job_id = api.execute(circuit=bell_state_circuit, nshots=100)[0]"
   ]
  },
  {
   "cell_type": "code",
   "execution_count": 148,
   "metadata": {},
   "outputs": [
    {
     "name": "stderr",
     "output_type": "stream",
     "text": [
      "Your job with id 29126 is completed.\n"
     ]
    },
    {
     "data": {
      "text/plain": [
       "[{'probabilities': [0.4999999999999999, 0.0, 0.0, 0.4999999999999999],\n",
       "  'frequencies': {'00': 57, '11': 43}}]"
      ]
     },
     "execution_count": 148,
     "metadata": {},
     "output_type": "execute_result"
    }
   ],
   "source": [
    "api.get_job(job_id).result"
   ]
  },
  {
   "cell_type": "markdown",
   "metadata": {},
   "source": [
    "## Slido Questions!!!!"
   ]
  }
 ],
 "metadata": {
  "kernelspec": {
   "display_name": "qiboconnection",
   "language": "python",
   "name": "python3"
  },
  "language_info": {
   "codemirror_mode": {
    "name": "ipython",
    "version": 3
   },
   "file_extension": ".py",
   "mimetype": "text/x-python",
   "name": "python",
   "nbconvert_exporter": "python",
   "pygments_lexer": "ipython3",
   "version": "3.11.3"
  },
  "orig_nbformat": 4
 },
 "nbformat": 4,
 "nbformat_minor": 2
}
